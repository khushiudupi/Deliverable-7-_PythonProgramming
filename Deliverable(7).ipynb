{
  "nbformat": 4,
  "nbformat_minor": 0,
  "metadata": {
    "colab": {
      "provenance": []
    },
    "kernelspec": {
      "name": "python3",
      "display_name": "Python 3"
    },
    "language_info": {
      "name": "python"
    }
  },
  "cells": [
    {
      "cell_type": "code",
      "execution_count": 1,
      "metadata": {
        "id": "YEGdheuWvegk"
      },
      "outputs": [],
      "source": [
        "import pandas as pd"
      ]
    },
    {
      "cell_type": "code",
      "source": [
        "n = int(input(\"Enter an integer value greater than 0: \"))"
      ],
      "metadata": {
        "colab": {
          "base_uri": "https://localhost:8080/"
        },
        "id": "WQqLrJROvmWM",
        "outputId": "74f3e926-02ee-4a5c-f091-ae6e54db1b13"
      },
      "execution_count": 2,
      "outputs": [
        {
          "name": "stdout",
          "output_type": "stream",
          "text": [
            "Enter an integer value greater than 0: 78\n"
          ]
        }
      ]
    },
    {
      "cell_type": "code",
      "source": [
        "#using the if condition statement to identify an ivalid input i.e., n <= 0\n",
        "if n <=0:\n",
        "  print(\"Invalid input! Enter integer greater than 0 and non -ve.\")\n",
        "#using a following else statement to create a list for each even, odd and fibonacci sequence\n",
        "else:\n",
        "    even_list = []\n",
        "    odd_list = []\n",
        "    fibonacci_list = []\n",
        "    for i in range(n):\n",
        "      even_list.append(i*2)\n",
        "      odd_list.append(i*2+1)\n",
        "      if i == 0:\n",
        "        fibonacci_list.append(0)\n",
        "      elif i == 1:\n",
        "        fibonacci_list.append(1)\n",
        "      else:\n",
        "        fibonacci_list.append(fibonacci_list[i-1] + fibonacci_list[i-2])\n"
      ],
      "metadata": {
        "id": "TO_CaifSvz7X"
      },
      "execution_count": 11,
      "outputs": []
    },
    {
      "cell_type": "code",
      "source": [
        "data = {\"Even\": even_list[:n], \"Odd\": odd_list[:n], \"Fibonacci\": fibonacci_list[:n]}\n",
        "df = pd.DataFrame(data)\n",
        "print(df)"
      ],
      "metadata": {
        "colab": {
          "base_uri": "https://localhost:8080/"
        },
        "id": "B4UOrMZuxvxu",
        "outputId": "d83f937c-7955-4485-a49d-2a52b78d4954"
      },
      "execution_count": 12,
      "outputs": [
        {
          "output_type": "stream",
          "name": "stdout",
          "text": [
            "    Even  Odd         Fibonacci\n",
            "0      0    1                 0\n",
            "1      2    3                 1\n",
            "2      4    5                 1\n",
            "3      6    7                 2\n",
            "4      8    9                 3\n",
            "..   ...  ...               ...\n",
            "73   146  147   806515533049393\n",
            "74   148  149  1304969544928657\n",
            "75   150  151  2111485077978050\n",
            "76   152  153  3416454622906707\n",
            "77   154  155  5527939700884757\n",
            "\n",
            "[78 rows x 3 columns]\n"
          ]
        }
      ]
    }
  ]
}